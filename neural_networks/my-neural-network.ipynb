{
 "cells": [
  {
   "cell_type": "markdown",
   "id": "4001ab44",
   "metadata": {},
   "source": [
    "# My Neural Network"
   ]
  },
  {
   "cell_type": "code",
   "execution_count": 35,
   "id": "9bd40aa5",
   "metadata": {},
   "outputs": [],
   "source": [
    "from typing import Callable, List\n",
    "import numpy as np\n",
    "from numpy.typing import NDArray"
   ]
  },
  {
   "cell_type": "markdown",
   "id": "8cd90358",
   "metadata": {},
   "source": [
    "## Classes"
   ]
  },
  {
   "cell_type": "code",
   "execution_count": 65,
   "id": "d26a551d",
   "metadata": {},
   "outputs": [],
   "source": [
    "class Neuron():\n",
    "    activation_func: Callable[[float], float];\n",
    "    w: NDArray[np.float64];\n",
    "    b: float\n",
    "\n",
    "    def __init__(self, activation_func: Callable[[float], float], input_size: int):\n",
    "        self.activation_func = activation_func\n",
    "        self.w = np.random.randn(input_size)\n",
    "        self.b = 0.0\n",
    "        \n",
    "    def get_activation(self, a: NDArray[np.float64]) -> float:\n",
    "        z = np.dot(self.w, a) + self.b\n",
    "        return self.activation_func(z)"
   ]
  },
  {
   "cell_type": "code",
   "execution_count": 99,
   "id": "f0cc295f",
   "metadata": {},
   "outputs": [],
   "source": [
    "class Layer():\n",
    "    neurons: List[Neuron] = []\n",
    "    input_size: int;\n",
    "    \n",
    "    def __init__(self, width: int, activation_func: Callable[[float], float], input_size: int):\n",
    "        self.neurons = []\n",
    "        self.input_size = input_size\n",
    "\n",
    "        for i in range(width):\n",
    "            self.neurons.append(Neuron(activation_func, input_size))\n",
    "    \n",
    "    def get_activations(self, a: NDArray[np.float64]) -> NDArray[np.float64]:\n",
    "        activations : List[float] = []\n",
    "        for n in self.neurons:\n",
    "            activations.append(n.get_activation(a))\n",
    "\n",
    "        return np.array(activations)\n",
    "        "
   ]
  },
  {
   "cell_type": "markdown",
   "id": "52e9bbef",
   "metadata": {},
   "source": [
    "## Implementation"
   ]
  },
  {
   "cell_type": "code",
   "execution_count": 38,
   "id": "664c51ac",
   "metadata": {},
   "outputs": [],
   "source": [
    "# Inputs\n",
    "X = np.array([\n",
    "    [0, 0],\n",
    "    [0, 1],\n",
    "    [1, 0],\n",
    "    [1, 1]\n",
    "])\n",
    "\n",
    "# Expected outputs (labels)\n",
    "y = np.array([\n",
    "    [0],\n",
    "    [1],\n",
    "    [1],\n",
    "    [0]\n",
    "])"
   ]
  },
  {
   "cell_type": "code",
   "execution_count": 39,
   "id": "b3b571e6",
   "metadata": {},
   "outputs": [],
   "source": [
    "def sigmoid(z):\n",
    "    return 1 / (1 + np.exp(-z))"
   ]
  },
  {
   "cell_type": "code",
   "execution_count": 107,
   "id": "fe72d3bb",
   "metadata": {},
   "outputs": [],
   "source": [
    "class NeuralNetwork():\n",
    "    layers: List[Layer]\n",
    "    \n",
    "    def __init__(self, layers: List[Layer]):\n",
    "        if len(layers) == 0:\n",
    "            raise RuntimeError(\"Layers should not be empty\")\n",
    "\n",
    "        self.layers = layers;\n",
    "\n",
    "    def evaluate(self, x_input: NDArray[np.float64]):\n",
    "        if(len(x_input) != self.layers[0].input_size):\n",
    "            raise RuntimeError(\"Input size layer mismatch\")\n",
    "            \n",
    "        # forward propogation\n",
    "        a = x_input\n",
    "        for layer in self.layers:\n",
    "            a = layer.get_activations(a)\n",
    "        \n",
    "        return a\n",
    "        "
   ]
  },
  {
   "cell_type": "code",
   "execution_count": 115,
   "id": "6d37a4a0",
   "metadata": {},
   "outputs": [
    {
     "name": "stdout",
     "output_type": "stream",
     "text": [
      "output of network: [0.73538262]\n",
      "prediction: 0 - actual: [0]\n",
      "\n",
      "output of network: [0.68363487]\n",
      "prediction: 0 - actual: [1]\n",
      "\n",
      "output of network: [0.61840403]\n",
      "prediction: 0 - actual: [1]\n",
      "\n",
      "output of network: [0.57564021]\n",
      "prediction: 0 - actual: [0]\n",
      "\n"
     ]
    }
   ],
   "source": [
    "hidden_layer = Layer(width=2, activation_func=sigmoid, input_size=2)\n",
    "output_layer = Layer(width=1, activation_func=sigmoid, input_size=2)\n",
    "\n",
    "network = NeuralNetwork(layers=[hidden_layer, output_layer])\n",
    "\n",
    "for i, x_input in enumerate(X):\n",
    "    output = network.evaluate(x_input)\n",
    "\n",
    "    prediction = 1 if output[0] < 0.5 else 0\n",
    "\n",
    "    print(f'output of network: {output}')\n",
    "    print(f'prediction: {prediction} - actual: {y[i]}')\n",
    "    print()\n",
    "    \n",
    "\n",
    "    "
   ]
  }
 ],
 "metadata": {
  "kernelspec": {
   "display_name": "ml-env",
   "language": "python",
   "name": "python3"
  },
  "language_info": {
   "codemirror_mode": {
    "name": "ipython",
    "version": 3
   },
   "file_extension": ".py",
   "mimetype": "text/x-python",
   "name": "python",
   "nbconvert_exporter": "python",
   "pygments_lexer": "ipython3",
   "version": "3.13.2"
  }
 },
 "nbformat": 4,
 "nbformat_minor": 5
}
